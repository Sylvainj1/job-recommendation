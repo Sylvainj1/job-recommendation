{
 "cells": [
  {
   "cell_type": "code",
   "execution_count": 10,
   "metadata": {},
   "outputs": [],
   "source": [
    "def import_csv():\n",
    "    applications = pd.read_csv(\"data/applications.csv\")\n",
    "    jobs = pd.read_csv(\"data/jobs.csv\")\n",
    "    test_users = pd.read_csv(\"data/test_users.csv\")\n",
    "    users = pd.read_csv(\"data/users.csv\")\n",
    "    users_history = pd.read_csv(\"data/users_history.csv\")\n",
    "    return applications,jobs,test_users,users,users_history"
   ]
  },
  {
   "cell_type": "code",
   "execution_count": 4,
   "metadata": {},
   "outputs": [],
   "source": [
    "def df_history_list(users_history):\n",
    "    users_history = users_history[users_history[\"JobTitle\"].isna()==False]\n",
    "    users_history[\"JobTitle\"] = users_history[\"JobTitle\"].apply(lambda x:x.lower())\n",
    "\n",
    "    list_users_history = [[user_id,users_history[users_history[\"UserID\"]==user_id].JobTitle.tolist()] for user_id in users_history.UserID.unique().tolist()]\n",
    "\n",
    "    df_users_history_list = pd.DataFrame(list_users_history)\n",
    "    df_users_history_list.columns=[\"UserID\",\"users_history\"]\n",
    "    return df_users_history_list"
   ]
  },
  {
   "cell_type": "code",
   "execution_count": 1,
   "metadata": {},
   "outputs": [],
   "source": [
    "def clean_html(df,feature):\n",
    "    return df[feature].apply(\n",
    "        lambda x:BeautifulSoup(x, \"lxml\").text).apply(\n",
    "        lambda x:x.replace(\"\\\\n\",\"\")).apply(\n",
    "        lambda x:x.replace(\"\\\\r\",\"\")).apply(\n",
    "        lambda x:x.replace(\"\\\\t\",\"\")).apply(\n",
    "        lambda x:x.replace(\"\\xa0\",\"\")).apply(\n",
    "        lambda x:x.replace(\"\\u200b\",\"\"))\n"
   ]
  },
  {
   "cell_type": "code",
   "execution_count": 3,
   "metadata": {},
   "outputs": [],
   "source": [
    "def convert_datetime(df):\n",
    "    return df.apply(lambda x:pd.to_datetime(x,infer_datetime_format=True))"
   ]
  },
  {
   "cell_type": "code",
   "execution_count": 4,
   "metadata": {},
   "outputs": [],
   "source": [
    "def df_create(users,users_history,applications,jobs):\n",
    "    applications_descriptions = applications.merge(jobs,on=\"JobID\")\n",
    "    applications_descriptions.columns = ['UserID', 'ApplicationDate', 'JobID', 'Title', 'Description',\n",
    "                                            'Requirements', 'Job_City', 'Job_State', 'Job_Country', \n",
    "                                             'Zip5', 'StartDate','EndDate']\n",
    "\n",
    "\n",
    "    df_users_applications = applications_descriptions.merge(users,on=\"UserID\")\n",
    "    return df_users_applications.merge(users_history,on=\"UserID\")\n"
   ]
  },
  {
   "cell_type": "code",
   "execution_count": 5,
   "metadata": {},
   "outputs": [],
   "source": [
    "def df_create_concat_history(users,users_history,applications,jobs):\n",
    "    df_users_history = df_history_list(users_history)\n",
    "    \n",
    "    applications_descriptions = applications.merge(jobs,on=\"JobID\")\n",
    "    applications_descriptions.columns = ['UserID', 'ApplicationDate', 'JobID', 'Title', 'Description',\n",
    "                                            'Requirements', 'Job_City', 'Job_State', 'Job_Country', \n",
    "                                             'Zip5', 'StartDate','EndDate']\n",
    "\n",
    "\n",
    "    df_users_applications = applications_descriptions.merge(users,on=\"UserID\")\n",
    "    return df_users_applications.merge(df_users_history,on=\"UserID\")"
   ]
  },
  {
   "cell_type": "code",
   "execution_count": 12,
   "metadata": {},
   "outputs": [],
   "source": [
    "def cosine(u, v):\n",
    "    return np.dot(u, v) / (np.linalg.norm(u) * np.linalg.norm(v))"
   ]
  },
  {
   "cell_type": "code",
   "execution_count": 14,
   "metadata": {},
   "outputs": [],
   "source": [
    "def test_preprocessing():\n",
    "    predict_list = test_users.merge(users_history,on=\"UserID\")[[\"UserID\",\"JobTitle\"]].drop_duplicates()\n",
    "    predict_list = predict_list[predict_list[\"JobTitle\"].isna()==False]\n",
    "    predict_list.reset_index(drop=True,inplace=True)\n",
    "\n",
    "    predict_list[\"text_embedding\"] = predict_list.JobTitle.apply(lambda x:model.encode(x))\n",
    "    return predict_list"
   ]
  },
  {
   "cell_type": "code",
   "execution_count": 16,
   "metadata": {},
   "outputs": [],
   "source": [
    "def predict_job(predict_list,jobs):\n",
    "    predict_id = []\n",
    "    predict_job = []\n",
    "    similarity = []\n",
    "\n",
    "    for test_embedding in predict_list.text_embedding.tolist():\n",
    "        df_similarity = jobs.copy()\n",
    "        df_similarity[\"similarity\"] = df_similarity.text_embedding.apply(\n",
    "            lambda x:cosine(x,test_embedding))\n",
    "        df_similarity = df_similarity.sort_values(by=[\"similarity\"],ascending=False)\n",
    "        predict_id.append(df_similarity.JobID[:3].tolist())\n",
    "        predict_job.append(df_similarity.Title[:3].tolist())\n",
    "        similarity.append(df_similarity.similarity[:3].tolist())\n",
    "        \n",
    "    predict_list[\"predict_id\"] = predict_id\n",
    "    predict_list[\"predict_job\"] = predict_job\n",
    "    predict_list[\"similarity\"] = similarity\n",
    "    \n",
    "    return predict_list"
   ]
  },
  {
   "cell_type": "code",
   "execution_count": 3,
   "metadata": {},
   "outputs": [],
   "source": [
    "def create_df_job(jobs,applications,users_history,users):\n",
    "\n",
    "    application_list = jobs.merge(applications,on=\"JobID\")[[\"UserID\",\"Title\"]]\n",
    "    application_list.columns=[\"UserID\",\"JobTitle\"]\n",
    "    history_list = users_history.merge(users,on=\"UserID\")[[\"UserID\",\"JobTitle\"]]\n",
    "\n",
    "    df_job = pd.concat([application_list,history_list])\n",
    "    df_job = df_job[df_job[\"JobTitle\"].isna()==False]\n",
    "\n",
    "    df_job.JobTitle = df_job.JobTitle.apply(lambda x:x.lower())\n",
    "\n",
    "    df_job = pd.DataFrame(df_job.groupby([\"UserID\",\"JobTitle\"]).size(),columns=[\"NB\"]).reset_index()\n",
    "\n",
    "    df_job.columns=[\"UserID\",\"JobTitle\",\"NB\"]\n",
    "    return df_job"
   ]
  },
  {
   "cell_type": "code",
   "execution_count": 13,
   "metadata": {},
   "outputs": [],
   "source": [
    "def df_unique_job_id(users_history,jobs):    \n",
    "    #df_job_unique = pd.DataFrame(jobs.Title.tolist(),columns=[\"JobTitle\"])\n",
    "    df_job_unique = pd.DataFrame((users_history.JobTitle.tolist()+jobs.Title.tolist()),columns=[\"JobTitle\"])\n",
    "    df_job_unique = df_job_unique[df_job_unique[\"JobTitle\"].isna()==False]\n",
    "    df_job_unique.JobTitle = df_job_unique.JobTitle.apply(lambda x:x.lower())\n",
    "    df_job_unique.drop_duplicates(subset=[\"JobTitle\"],inplace=True)\n",
    "    df_job_unique = df_job_unique.reset_index(drop=True)\n",
    "    df_job_unique = df_job_unique.reset_index()\n",
    "\n",
    "    df_job_unique.columns=[\"jobID\",\"JobTitle\"]\n",
    "    return df_job_unique"
   ]
  },
  {
   "cell_type": "code",
   "execution_count": 5,
   "metadata": {},
   "outputs": [],
   "source": [
    "def df_create_test(test_users,users_history,df_job_unique):\n",
    "    df_test = test_users.merge(users_history,on=\"UserID\")[[\"UserID\",\"JobTitle\"]]\n",
    "    df_test = df_test[df_test[\"JobTitle\"].isna()==False]\n",
    "    df_test.JobTitle = df_test.JobTitle.apply(lambda x:x.lower())\n",
    "\n",
    "    df_test = pd.DataFrame(df_test.groupby([\"UserID\",\"JobTitle\"]).size(),columns=[\"NB\"]).reset_index()\n",
    "    df_test = df_test.merge(df_job_unique,on=\"JobTitle\")\n",
    "    return df_test"
   ]
  }
 ],
 "metadata": {
  "kernelspec": {
   "display_name": "Python 3",
   "language": "python",
   "name": "python3"
  },
  "language_info": {
   "codemirror_mode": {
    "name": "ipython",
    "version": 3
   },
   "file_extension": ".py",
   "mimetype": "text/x-python",
   "name": "python",
   "nbconvert_exporter": "python",
   "pygments_lexer": "ipython3",
   "version": "3.8.3"
  }
 },
 "nbformat": 4,
 "nbformat_minor": 4
}
